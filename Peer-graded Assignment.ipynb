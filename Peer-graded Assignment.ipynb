{
  "metadata": {
    "language_info": {
      "codemirror_mode": {
        "name": "python",
        "version": 3
      },
      "file_extension": ".py",
      "mimetype": "text/x-python",
      "name": "python",
      "nbconvert_exporter": "python",
      "pygments_lexer": "ipython3",
      "version": "3.8"
    },
    "kernelspec": {
      "name": "python",
      "display_name": "Python (Pyodide)",
      "language": "python"
    }
  },
  "nbformat_minor": 4,
  "nbformat": 4,
  "cells": [
    {
      "cell_type": "markdown",
      "source": "Peer Evaluated Assignment",
      "metadata": {}
    },
    {
      "cell_type": "markdown",
      "source": "This file is to visit back knowledge learnt from the course (Introduction)",
      "metadata": {}
    },
    {
      "cell_type": "markdown",
      "source": "We use Python, R, SQL and many other languages for data science.",
      "metadata": {}
    },
    {
      "cell_type": "markdown",
      "source": "Here's a list of some popular and widely used data science libraries in Python:\n\nNumPy: Fundamental package for scientific computing with support for large, multi-dimensional arrays and matrices, along with mathematical functions to operate on these arrays.\n\nPandas: Data manipulation and analysis library, providing data structures for efficiently manipulating large datasets.\n\nMatplotlib: 2D plotting library for creating static, animated, and interactive visualizations in Python.\n\nSeaborn: Data visualization library based on Matplotlib, providing a high-level interface for drawing attractive and informative statistical graphics.\n\nScikit-learn: Simple and efficient tools for data mining and data analysis, including machine learning algorithms for classification, regression, clustering, and more.\n\nSciPy: Open-source library used for high-level computations, built on top of NumPy, and providing additional functionality.\n\nStatsmodels: Library for estimating and testing statistical models.\n\nTensorFlow: Open-source machine learning framework developed by Google for building and training deep learning models.\n\nPyTorch: Open-source machine learning library developed by Facebook, known for its dynamic computational graph and ease of use in building neural networks.\n\nKeras: High-level neural networks API, written in Python and capable of running on top of TensorFlow, CNTK, or Theano.\n\nNLTK (Natural Language Toolkit): Library for working with human language data, including tools for tokenization, stemming, tagging, parsing, and more.\n\nScrapy: An open-source and collaborative web crawling framework for Python, used for extracting data from websites.\n\nBeautiful Soup: Library for pulling data out of HTML and XML files. It is often used for web scraping purposes.\n\nDask: Parallel computing library that integrates with existing Python libraries like NumPy, Pandas, and Scikit-learn to scale computations.\n\nBokeh: Interactive visualization library that targets modern web browsers for presentation and supports streaming, real-time data.\n\nFolium: Python wrapper for Leaflet.js, making it easy to create interactive maps.\n\nH2O.ai: Open-source software for data analysis. It provides implementations of cutting-edge machine learning algorithms.\n\nXGBoost: Implementation of gradient boosting designed for speed and performance.\n\nLightGBM: Gradient boosting framework that uses tree-based learning algorithms.\n\nOpenCV: Open-source computer vision and machine learning software library.\n\nThese libraries cover a wide range of tasks in data science, from data manipulation and visualization to machine learning and deep learning. Depending on your specific needs, you may find some of these libraries more relevant than others.",
      "metadata": {}
    },
    {
      "cell_type": "markdown",
      "source": "Arithmetic expressions involve mathematical operations performed on numbers. These operations include addition, subtraction, multiplication, and division. Here are some examples of arithmetic expressions:\n\nAddition:\n\n2+3\n\nSubtraction:\n\n5−2\n\nMultiplication:\n\n4×6\n\nDivision:\n\n10/2\n",
      "metadata": {}
    },
    {
      "cell_type": "code",
      "source": "x,y=5,2\nz=x+y\na=x*y\nprint(a,z)",
      "metadata": {},
      "execution_count": null,
      "outputs": []
    },
    {
      "cell_type": "code",
      "source": "a=int(input('enter minute'))\nhour=a/60\nprint(hour)",
      "metadata": {},
      "execution_count": null,
      "outputs": []
    },
    {
      "cell_type": "markdown",
      "source": "Learning Data science\nGoing to gym 6 times a week\ngetting up early",
      "metadata": {}
    }
  ]
}